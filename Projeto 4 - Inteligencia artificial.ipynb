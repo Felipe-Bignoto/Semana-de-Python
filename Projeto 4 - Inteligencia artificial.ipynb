{
 "cells": [
  {
   "cell_type": "markdown",
   "id": "06016105",
   "metadata": {},
   "source": [
    "# Projeto 4 - Inteligencia artificial\n",
    "# Análises preditivas\n"
   ]
  },
  {
   "cell_type": "code",
   "execution_count": null,
   "id": "625ee8a6",
   "metadata": {},
   "outputs": [],
   "source": [
    "#carregando dados\n",
    "!pip install yfinance\n",
    "import yfinance\n",
    "ticker = input(\"Digite o tocker da ação desejada: \")\n",
    "\n",
    "acao = yfinance.Ticker(ticker).history(\"2y\")\n",
    "#acao\n",
    "#acao.Close.plot()\n",
    "\n",
    "\n",
    "dados = acao.reset_index()\n",
    "#dados\n",
    "#dados[\"Close\"]\n",
    "#dados[[\"Close\",\"Date\"]]\n",
    "coluna = [\"Date\", \"Close\"]\n",
    "dados = dados[coluna]\n",
    "dados[\"Date\"] = dados[\"Date\"].dt.tz_localize(None)\n",
    "dados.columns= [\"ds\",\"y\"]\n",
    "\n",
    "#Treinando o modelo -prophet\n",
    "#!pip install prophet\n",
    "\n",
    "from prophet import Prophet\n",
    "from prophet.plot import plot_plotly\n",
    "\n",
    "modelo = Prophet()\n",
    "modelo.fit(dados)\n",
    "periodo = modelo.make_future_dataframe(periods=90)\n",
    "previsoes = modelo.predict(periodo)\n",
    "plot_plotly(modelo,previsoes)"
   ]
  }
 ],
 "metadata": {
  "kernelspec": {
   "display_name": "Python 3 (ipykernel)",
   "language": "python",
   "name": "python3"
  },
  "language_info": {
   "codemirror_mode": {
    "name": "ipython",
    "version": 3
   },
   "file_extension": ".py",
   "mimetype": "text/x-python",
   "name": "python",
   "nbconvert_exporter": "python",
   "pygments_lexer": "ipython3",
   "version": "3.9.13"
  }
 },
 "nbformat": 4,
 "nbformat_minor": 5
}
