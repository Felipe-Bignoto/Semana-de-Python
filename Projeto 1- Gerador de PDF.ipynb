{
 "cells": [
  {
   "cell_type": "code",
   "execution_count": null,
   "id": "c4b01b56",
   "metadata": {},
   "outputs": [],
   "source": [
    "# Variaveis\n",
    "Descrição = input(\"Digite a descrição do projeto: \")\n",
    "Horas_estimadas = input(\"Digite o total de horas estimadas: \")\n",
    "Valor_hora = input(\"Digite o valor da hora trabalhada: \")\n",
    "Prazo = input(\"Digite o prazo estimado: \")\n",
    "Valor_total_estimado = int(Horas_estimadas) * int(Valor_hora)\n",
    "#instalando \n",
    "#!pip install fpdf\n",
    "from fpdf import FPDF\n",
    "pdf = FPDF()\n",
    "\n",
    "pdf.add_page()\n",
    "pdf.set_font(\"Arial\")\n",
    "\n",
    "pdf.image(\"template.png\",x=0,y=0)\n",
    "\n",
    "pdf.text(115,145,Descrição)\n",
    "pdf.text(115,160,Horas_estimadas)\n",
    "pdf.text(115,175,Valor_hora)\n",
    "pdf.text(115,190,Prazo)\n",
    "pdf.text(115,205,str(Valor_total_estimado))\n",
    "\n",
    "pdf.output(\"Orçamento.pdf\")\n",
    "print(\"Orçamento gerado com sucesso\")"
   ]
  }
 ],
 "metadata": {
  "kernelspec": {
   "display_name": "Python 3 (ipykernel)",
   "language": "python",
   "name": "python3"
  },
  "language_info": {
   "codemirror_mode": {
    "name": "ipython",
    "version": 3
   },
   "file_extension": ".py",
   "mimetype": "text/x-python",
   "name": "python",
   "nbconvert_exporter": "python",
   "pygments_lexer": "ipython3",
   "version": "3.9.13"
  }
 },
 "nbformat": 4,
 "nbformat_minor": 5
}
