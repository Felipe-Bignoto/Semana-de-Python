{
 "cells": [
  {
   "cell_type": "code",
   "execution_count": null,
   "id": "91ee5276",
   "metadata": {},
   "outputs": [],
   "source": [
    "# carregando dadis - Pandas\n",
    "import pandas as pd\n",
    "# Importando os dados do excel\n",
    "dados = pd.read_excel(\"vendas.xlsx\")\n",
    "dados\n",
    "dados.head(6)\n",
    "dados.tail(10)\n",
    "dados.shape\n",
    "#estatisticas\n",
    "dados.describe()\n",
    "#Análises\n",
    "dados.loja\n",
    "#total de pedidos por loja\n",
    "dados.loja.value_counts()\n",
    "#total de pedidos por forma de pagamento\n",
    "dados.forma_pagamento.value_counts()\n",
    "# Faturamento total por loja\n",
    "dados.groupby(\"loja\").sum()\n",
    "# Faturamento medio por loja\n",
    "dados.groupby(\"loja\").mean()\n",
    "#faturamento por cidade\n",
    "dados.groupby(\"cidade\").sum()\n",
    "#agrupamento\n",
    "dados_agrupados_estado_loja = dados.groupby([\"estado\",\"loja\"]).sum()\n",
    "dados_agrupados_estado_loja.to_html(\"faturamento.html\")\n",
    "#visualização de dados - Plotly Express\n",
    "#!pip install plotly_express\n",
    "import plotly_express as px\n",
    "grafico = px.histogram(dados, x = 'loja',y='preco', color='forma_pagamento',text_auto=True)\n",
    "grafico.show()\n",
    "grafico.write_html(\"faturamento_loja.html\")\n",
    "colunas = {\"loja\" ,\"cidade\", \"estado\", \"regiao\", \"tamanho\", \"local_consumo\", \"forma_pagamento\"}\n",
    "for coluna in colunas:\n",
    "    print(coluna)\n",
    "for coluna in colunas:\n",
    "    grafico =px.histogram(dados, x = coluna,y='preco', color='forma_pagamento',text_auto=True)\n",
    "    grafico.show()\n",
    "    grafico.write_html(f\"grafico_{coluna}.html\")\n",
    "#Grafico dinâmico\n",
    "# agrupando os dados\n",
    "agrupado = dados.groupby(['loja', 'ano_mes']).sum()\n",
    "#resetando os índices\n",
    "agrupado.reset_index(inplace=True)\n",
    "# criando uma coluna com o valor acumulado\n",
    "agrupado['acumulado'] = agrupado.groupby('loja').cumsum()\n",
    "# gerando o gráfico\n",
    "fig = px.bar(agrupado,x='acumulado',y=\"loja\",color='loja',text_auto=True,range_x=[0,160000],animation_frame='ano_mes')\n",
    "fig.show()\n",
    "fig.write_html(\"tabela_dinamica.html\")"
   ]
  }
 ],
 "metadata": {
  "kernelspec": {
   "display_name": "Python 3 (ipykernel)",
   "language": "python",
   "name": "python3"
  },
  "language_info": {
   "codemirror_mode": {
    "name": "ipython",
    "version": 3
   },
   "file_extension": ".py",
   "mimetype": "text/x-python",
   "name": "python",
   "nbconvert_exporter": "python",
   "pygments_lexer": "ipython3",
   "version": "3.9.13"
  }
 },
 "nbformat": 4,
 "nbformat_minor": 5
}
