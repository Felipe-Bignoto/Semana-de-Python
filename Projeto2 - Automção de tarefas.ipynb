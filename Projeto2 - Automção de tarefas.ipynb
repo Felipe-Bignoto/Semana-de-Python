{
 "cells": [
  {
   "cell_type": "code",
   "execution_count": null,
   "id": "70143e3d",
   "metadata": {},
   "outputs": [],
   "source": [
    "#Instalando a biblioteca\n",
    "#!pip install yfinance\n",
    "#inicializando as variaveis\n",
    "import yfinance\n",
    "Codigo = input(\"Digite o código: \")\n",
    "tempo = input(\"Digite o tempo de avaliação: exemplo: 2d = 2 dias, 6mo = 6 meses e 1y = 1 ano: \")\n",
    "email = input(\"digite o email do destinatario: \")\n",
    "#Pegando os dados do site\n",
    "dados = yfinance.Ticker(Codigo).history(tempo)\n",
    "fechamento = dados.Close\n",
    "fechamento.plot()\n",
    "maximo = fechamento.max()\n",
    "minimo = fechamento.min()\n",
    "atual = fechamento[-1]\n",
    "mensagem = f\"\"\"Bom dia,\n",
    "\n",
    "Segue abaixo as análises da ação {Codigo} dos últimos {tempo}s:\n",
    "\n",
    "Cotação máxima: R${round(maximo,2)}\n",
    "Cotação mínima: R${round(minimo,2)}\n",
    "Cotação atual: R${round(atual,2)}\n",
    "    \n",
    "    \n",
    "Atenciosamente.\n",
    "\"\"\"\n",
    "#!pip install pyautogui\n",
    "#!pip install pyperclip\n",
    "import pyautogui\n",
    "import pyperclip\n",
    "import time\n",
    "\n",
    "#Passo a passo para enviar o email\n",
    "pyautogui.PAUSE =3\n",
    "pyautogui.hotkey(\"ctrl\",'t')\n",
    "pyperclip.copy(\"www.gmail.com\")\n",
    "pyautogui.hotkey(\"ctrl\",\"v\")\n",
    "pyautogui.hotkey(\"enter\")\n",
    "time.sleep(5)\n",
    "pyautogui.click(x=94, y=178)\n",
    "pyperclip.copy(email)\n",
    "pyautogui.hotkey(\"ctrl\",\"v\")\n",
    "pyautogui.hotkey(\"tab\")\n",
    "pyperclip.copy(\"Tarefas diárias\")\n",
    "pyautogui.hotkey(\"ctrl\",\"v\")             \n",
    "pyautogui.hotkey(\"tab\")\n",
    "pyperclip.copy(mensagem)\n",
    "pyautogui.hotkey(\"ctrl\",\"v\")\n",
    "pyautogui.hotkey(\"ctrl\",\"enter\")              \n",
    "pyautogui.hotkey(\"ctrl\", \"f4\")\n",
    "print('E-mail enviado com sucesso!')"
   ]
  },
  {
   "cell_type": "code",
   "execution_count": null,
   "id": "d8c8d19a",
   "metadata": {},
   "outputs": [],
   "source": [
    "#Descobrindo as cordenadas do cursor do mouse\n",
    "time.sleep(5)\n",
    "pyautogui.position()"
   ]
  }
 ],
 "metadata": {
  "kernelspec": {
   "display_name": "Python 3 (ipykernel)",
   "language": "python",
   "name": "python3"
  },
  "language_info": {
   "codemirror_mode": {
    "name": "ipython",
    "version": 3
   },
   "file_extension": ".py",
   "mimetype": "text/x-python",
   "name": "python",
   "nbconvert_exporter": "python",
   "pygments_lexer": "ipython3",
   "version": "3.9.13"
  }
 },
 "nbformat": 4,
 "nbformat_minor": 5
}
