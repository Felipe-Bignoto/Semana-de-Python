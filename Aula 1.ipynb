{
 "cells": [
  {
   "cell_type": "markdown",
   "id": "e3087aef",
   "metadata": {},
   "source": [
    "# Testes"
   ]
  },
  {
   "cell_type": "code",
   "execution_count": 28,
   "id": "18d114fc",
   "metadata": {},
   "outputs": [
    {
     "name": "stdout",
     "output_type": "stream",
     "text": [
      "Semana do Python\n",
      "10\n",
      "25.0\n",
      "Digite um valor: 5\n",
      "5\n",
      "10\n"
     ]
    }
   ],
   "source": [
    "print(\"Semana do Python\")\n",
    "print(\"10\")\n",
    "print(10*5/2)\n",
    "valor = input(\"Digite um valor: \")\n",
    "print(valor)\n",
    "resultado = int(valor) * 2\n",
    "print(resultado)\n"
   ]
  },
  {
   "cell_type": "markdown",
   "id": "9906d57f",
   "metadata": {},
   "source": [
    "# Meu primeiro projeto Python - Orçamento de projeto em PDF"
   ]
  },
  {
   "cell_type": "code",
   "execution_count": 57,
   "id": "12686f86",
   "metadata": {},
   "outputs": [
    {
     "name": "stdout",
     "output_type": "stream",
     "text": [
      "Digite a descrição do projeto: desenvolvimento web\n",
      "Digite o total de horas estimadas: 200\n",
      "Digite o valor da hora trabalhada: 100\n",
      "Digite o prazo estimado: 5 meses\n"
     ]
    }
   ],
   "source": [
    "# Variaveis\n",
    "Descrição = input(\"Digite a descrição do projeto: \")\n",
    "Horas_estimadas = input(\"Digite o total de horas estimadas: \")\n",
    "Valor_hora = input(\"Digite o valor da hora trabalhada: \")\n",
    "Prazo = input(\"Digite o prazo estimado: \")\n",
    "Valor_total_estimado = int(Horas_estimadas) * int(valor_hora)\n",
    "\n"
   ]
  },
  {
   "cell_type": "code",
   "execution_count": 49,
   "id": "7105bab0",
   "metadata": {},
   "outputs": [
    {
     "name": "stdout",
     "output_type": "stream",
     "text": [
      "Requirement already satisfied: fpdf in c:\\users\\felip\\anaconda3\\lib\\site-packages (1.7.2)\n"
     ]
    }
   ],
   "source": [
    "#instalando \n",
    "!pip install fpdf\n"
   ]
  },
  {
   "cell_type": "code",
   "execution_count": 51,
   "id": "b0799f39",
   "metadata": {},
   "outputs": [],
   "source": [
    "from fpdf import FPDF"
   ]
  },
  {
   "cell_type": "code",
   "execution_count": 63,
   "id": "1032656f",
   "metadata": {},
   "outputs": [
    {
     "name": "stdout",
     "output_type": "stream",
     "text": [
      "Orçamento gerado com sucesso\n"
     ]
    }
   ],
   "source": [
    "pdf = FPDF()\n",
    "\n",
    "pdf.add_page()\n",
    "pdf.set_font(\"Arial\")\n",
    "\n",
    "pdf.image(\"template.png\",x=0,y=0)\n",
    "\n",
    "pdf.text(115,145,Descrição)\n",
    "pdf.text(115,160,Horas_estimadas)\n",
    "pdf.text(115,175,Valor_hora)\n",
    "pdf.text(115,190,Prazo)\n",
    "pdf.text(115,205,str(Valor_total_estimado))\n",
    "\n",
    "pdf.output(\"Orçamento.pdf\")\n",
    "print(\"Orçamento gerado com sucesso\")"
   ]
  },
  {
   "cell_type": "code",
   "execution_count": null,
   "id": "a2ee7292",
   "metadata": {},
   "outputs": [],
   "source": []
  },
  {
   "cell_type": "code",
   "execution_count": null,
   "id": "c9f0506c",
   "metadata": {},
   "outputs": [],
   "source": []
  }
 ],
 "metadata": {
  "kernelspec": {
   "display_name": "Python 3 (ipykernel)",
   "language": "python",
   "name": "python3"
  },
  "language_info": {
   "codemirror_mode": {
    "name": "ipython",
    "version": 3
   },
   "file_extension": ".py",
   "mimetype": "text/x-python",
   "name": "python",
   "nbconvert_exporter": "python",
   "pygments_lexer": "ipython3",
   "version": "3.9.13"
  }
 },
 "nbformat": 4,
 "nbformat_minor": 5
}
